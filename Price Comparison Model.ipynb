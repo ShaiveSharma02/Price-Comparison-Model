{
 "cells": [
  {
   "cell_type": "code",
   "execution_count": 11,
   "id": "d052842e",
   "metadata": {},
   "outputs": [],
   "source": [
    "from selenium import webdriver\n",
    "from bs4 import BeautifulSoup\n",
    "import time\n",
    "from selenium.webdriver.support import expected_conditions as EC\n",
    "from selenium.webdriver.common.by import By\n",
    "from selenium.webdriver.common.keys import Keys\n",
    "from selenium.webdriver.support.ui import WebDriverWait\n",
    "from selenium.common.exceptions import TimeoutException\n",
    "from selenium.common.exceptions import NoSuchElementException"
   ]
  },
  {
   "cell_type": "code",
   "execution_count": 12,
   "id": "c42fc5a1",
   "metadata": {},
   "outputs": [],
   "source": [
    "def search_amazon(keyword):\n",
    "    print(\"Searching for the product on Amazon...\")\n",
    "    driver.get('https://www.amazon.in')\n",
    "    search_box = driver.find_element_by_id('twotabsearchtextbox')\n",
    "    search_box.send_keys(keyword)\n",
    "    search_box.submit()\n",
    "\n",
    "    try:\n",
    "        # Check if a message indicating no results is present\n",
    "        no_results_message = driver.find_element(By.XPATH, \"//span[contains(text(), 'No results for')]\")\n",
    "        print(\"Product not found on Amazon.\")\n",
    "        return None\n",
    "    except NoSuchElementException:\n",
    "        pass\n",
    "\n",
    "    print(\"Search on Amazon completed.\")"
   ]
  },
  {
   "cell_type": "code",
   "execution_count": 13,
   "id": "a59ea05f",
   "metadata": {},
   "outputs": [],
   "source": [
    "# Function to search for a product on Flipkart and check if it exists\n",
    "def search_flipkart(keyword):\n",
    "    print(\"Searching for the product on Flipkart...\")\n",
    "    driver.get('https://www.flipkart.com')\n",
    "\n",
    "    try:\n",
    "        # Use an explicit wait to wait for the close button to appear\n",
    "        wait = WebDriverWait(driver, 10)\n",
    "        close_popup = wait.until(EC.presence_of_element_located((By.XPATH, '//button[@class=\"_2KpZ6l _2doB4z\"]')))\n",
    "        close_popup.click()\n",
    "    except TimeoutException:\n",
    "        # If the pop-up doesn't appear, continue without closing it\n",
    "        pass\n",
    "    \n",
    "    search_box = driver.find_element_by_name('q')\n",
    "    search_box.send_keys(keyword)\n",
    "    search_box.submit()\n",
    "\n",
    "    try:\n",
    "        # Check if a message indicating no results is present\n",
    "        no_results_message = driver.find_element(By.XPATH, \"//div[contains(text(), 'Sorry, no results found!')]\")\n",
    "        print(\"Product not found on Flipkart.\")\n",
    "        return None\n",
    "    except NoSuchElementException:\n",
    "        pass\n",
    "\n",
    "    print(\"Search on Flipkart completed.\")"
   ]
  },
  {
   "cell_type": "code",
   "execution_count": 14,
   "id": "d6ba1044",
   "metadata": {},
   "outputs": [],
   "source": [
    "# Function to search for a product on Croma and check if it exists\n",
    "def search_croma(keyword):\n",
    "    print(\"Searching for the product on Croma...\")\n",
    "    driver.get('https://www.croma.com')\n",
    "    search_box = driver.find_element_by_id('searchV2')  # Use the actual ID 'searchV2'\n",
    "    search_box.send_keys(keyword)\n",
    "    \n",
    "    # Simulate pressing the \"Enter\" key to trigger the search\n",
    "    search_box.send_keys(Keys.ENTER)\n",
    "\n",
    "    try:\n",
    "        # Check if a message indicating no results is present\n",
    "        no_results_message = driver.find_element(By.XPATH, \"//div[contains(text(), 'No results found.')]\")\n",
    "        print(\"Product not found on Croma.\")\n",
    "        return None\n",
    "    except NoSuchElementException:\n",
    "        pass\n",
    "\n",
    "    print(\"Search on Croma completed.\")"
   ]
  },
  {
   "cell_type": "code",
   "execution_count": 15,
   "id": "24a2a10b",
   "metadata": {},
   "outputs": [],
   "source": [
    "# Function to extract the price from Amazon\n",
    "def extract_amazon_price():\n",
    "    print(\"Extracting the price from Amazon...\")\n",
    "    amazon_soup = BeautifulSoup(driver.page_source, 'html.parser')\n",
    "    amazon_price = amazon_soup.find_all('span', {'class': 'a-price-whole'})\n",
    "    if amazon_price:\n",
    "        amazon_price = amazon_price[0].get_text()\n",
    "    else:\n",
    "        amazon_price = None\n",
    "    print(\"Price extraction from Amazon completed.\")\n",
    "    return amazon_price"
   ]
  },
  {
   "cell_type": "code",
   "execution_count": 16,
   "id": "7ac29700",
   "metadata": {},
   "outputs": [],
   "source": [
    "# Function to extract the price from Flipkart\n",
    "def extract_flipkart_price():\n",
    "    print(\"Extracting the price from Flipkart...\")\n",
    "    try:\n",
    "        WebDriverWait(driver, 10).until(EC.presence_of_element_located((By.CLASS_NAME, '_30jeq3')))\n",
    "        flipkart_soup = BeautifulSoup(driver.page_source, 'html.parser')\n",
    "        flipkart_price = flipkart_soup.find('div', {'class': '_30jeq3'}).get_text()\n",
    "        print(\"Price extraction from Flipkart completed.\")\n",
    "        return flipkart_price\n",
    "    except TimeoutException:\n",
    "        print(\"Price element not found on Flipkart.\")\n",
    "        return None"
   ]
  },
  {
   "cell_type": "code",
   "execution_count": 17,
   "id": "ac72ba70",
   "metadata": {},
   "outputs": [],
   "source": [
    "# Function to extract the price from Croma using XPath\n",
    "def extract_croma_price():\n",
    "    print(\"Extracting the price from Croma...\")\n",
    "    \n",
    "    try:\n",
    "        # Wait for the price element to become visible\n",
    "        wait = WebDriverWait(driver, 10)\n",
    "        croma_price_element = wait.until(EC.visibility_of_element_located((By.XPATH, '/html/body/main/div[3]/div[1]/div[2]/div/div/div[3]/ul/li[1]/div/div[2]/div[3]/div[1]')))\n",
    "        croma_price = croma_price_element.text.strip()\n",
    "    except Exception as e:\n",
    "        print(f\"Error extracting Croma price: {str(e)}\")\n",
    "        croma_price = None\n",
    "\n",
    "    print(\"Price extraction from Croma completed.\")\n",
    "    return croma_price\n"
   ]
  },
  {
   "cell_type": "code",
   "execution_count": 18,
   "id": "c46db13d",
   "metadata": {},
   "outputs": [
    {
     "name": "stdout",
     "output_type": "stream",
     "text": [
      "Enter a product name/keyword : Apple Mac Book M2 Starlight\n",
      "Searching for the product on Amazon...\n",
      "Search on Amazon completed.\n",
      "Extracting the price from Amazon...\n",
      "Price extraction from Amazon completed.\n",
      "Searching for the product on Flipkart...\n",
      "Search on Flipkart completed.\n",
      "Extracting the price from Flipkart...\n",
      "Price extraction from Flipkart completed.\n",
      "Searching for the product on Croma...\n",
      "Search on Croma completed.\n",
      "Extracting the price from Croma...\n",
      "Price extraction from Croma completed.\n"
     ]
    }
   ],
   "source": [
    "# Configure Selenium webdriver\n",
    "driver = webdriver.Chrome(r'C:\\Users\\KIIT\\Downloads\\chromedriver-win64\\chromedriver-win64\\chromedriver.exe') \n",
    "product_keyword = input(\"Enter a product name/keyword : \")\n",
    "\n",
    "# Search for the product and extract price on amazon\n",
    "search_amazon(product_keyword)\n",
    "amazon_price = extract_amazon_price()\n",
    "\n",
    "# Search for the product and extract price on flipkart\n",
    "search_flipkart(product_keyword)\n",
    "flipkart_price = extract_flipkart_price()\n",
    "\n",
    "# Search for the product and extract price on croma\n",
    "search_croma(product_keyword)\n",
    "croma_price = extract_croma_price()\n",
    "\n",
    "# Close the Selenium webdriver\n",
    "driver.quit()"
   ]
  },
  {
   "cell_type": "code",
   "execution_count": 19,
   "id": "b1948e83",
   "metadata": {},
   "outputs": [
    {
     "name": "stdout",
     "output_type": "stream",
     "text": [
      "Amazon Price: 107990.0\n",
      "Flipkart Price: 107890.0\n",
      "Croma Price: 107990.0\n"
     ]
    }
   ],
   "source": [
    "# Print the prices\n",
    "# Remove non-numeric characters, including '₹' and commas, and convert to float\n",
    "def extract_numeric(price_str):\n",
    "    if price_str:\n",
    "        return float(''.join(filter(str.isdigit, price_str)))\n",
    "    else:\n",
    "        return None\n",
    "\n",
    "amazon_price_numeric = extract_numeric(amazon_price)\n",
    "flipkart_price_numeric = extract_numeric(flipkart_price)\n",
    "croma_price_numeric = extract_numeric(croma_price)\n",
    "\n",
    "# Print the numeric values\n",
    "print(f\"Amazon Price: {amazon_price_numeric}\")\n",
    "print(f\"Flipkart Price: {flipkart_price_numeric}\")\n",
    "print(f\"Croma Price: {croma_price_numeric}\")\n"
   ]
  },
  {
   "cell_type": "code",
   "execution_count": 21,
   "id": "2831ff26",
   "metadata": {},
   "outputs": [
    {
     "name": "stdout",
     "output_type": "stream",
     "text": [
      "The best website to buy the product 'Apple Mac Book M2 Starlight' is Flipkart with a price of 107890.0\n"
     ]
    }
   ],
   "source": [
    "# Find the cheapest price and website\n",
    "cheapest_price = min(filter(None, [amazon_price_numeric, flipkart_price_numeric, croma_price_numeric]))\n",
    "cheapest_website = None\n",
    "\n",
    "if amazon_price_numeric == cheapest_price:\n",
    "    cheapest_website = \"Amazon\"\n",
    "elif flipkart_price_numeric == cheapest_price:\n",
    "    cheapest_website = \"Flipkart\"\n",
    "elif croma_price_numeric == cheapest_price:\n",
    "    cheapest_website = \"Croma\"\n",
    "\n",
    "if cheapest_website:\n",
    "    print(f\"The best website to buy the product '{product_keyword}' is {cheapest_website} with a price of {cheapest_price}\")\n",
    "else:\n",
    "    print(f\"No price information available for the product '{product_keyword}' from any website.\")"
   ]
  },
  {
   "cell_type": "code",
   "execution_count": null,
   "id": "9d464ab7",
   "metadata": {},
   "outputs": [],
   "source": []
  }
 ],
 "metadata": {
  "kernelspec": {
   "display_name": "Python (quinnox)",
   "language": "python",
   "name": "quinnox"
  },
  "language_info": {
   "codemirror_mode": {
    "name": "ipython",
    "version": 3
   },
   "file_extension": ".py",
   "mimetype": "text/x-python",
   "name": "python",
   "nbconvert_exporter": "python",
   "pygments_lexer": "ipython3",
   "version": "3.8.17"
  }
 },
 "nbformat": 4,
 "nbformat_minor": 5
}
